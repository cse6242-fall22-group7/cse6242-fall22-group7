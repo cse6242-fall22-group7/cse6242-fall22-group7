{
 "cells": [
  {
   "cell_type": "code",
   "execution_count": 1,
   "metadata": {},
   "outputs": [],
   "source": [
    "import pandas as pd\n",
    "import numpy as np\n",
    "import time\n",
    "import pyspark\n",
    "from pyspark.sql import SparkSession\n",
    "from pyspark.sql.functions import col\n",
    "import networkx as nx\n",
    "from node2vec import Node2Vec\n",
    "import random"
   ]
  },
  {
   "cell_type": "code",
   "execution_count": 2,
   "metadata": {},
   "outputs": [],
   "source": [
    "spark = SparkSession.builder.appName(\"test\").getOrCreate()"
   ]
  },
  {
   "cell_type": "code",
   "execution_count": 3,
   "metadata": {},
   "outputs": [],
   "source": [
    "# import data\n",
    "from pyspark.sql.functions import mean\n",
    "block = spark.read.csv(\"block.csv\",header=True)\n",
    "block = block.withColumn('numint',col('num').cast(\"int\"))\n",
    "med = int(block.select(mean('numint')).collect()[0].__getitem__('avg(numint)'))"
   ]
  },
  {
   "cell_type": "code",
   "execution_count": 5,
   "metadata": {
    "scrolled": true
   },
   "outputs": [
    {
     "name": "stdout",
     "output_type": "stream",
     "text": [
      "10779107\n",
      "69246\n"
     ]
    }
   ],
   "source": [
    "# import transaction data\n",
    "data = spark.read.csv(\"transaction.csv\",header=True)\n",
    "print(data.count())\n",
    "# filter data\n",
    "data = data.filter(data.block_num<='5360000')\n",
    "data = data.withColumn('amountv',col('amount').cast(\"double\"))\n",
    "mdf = data.groupBy(\"from_addr\",\"to_addr\",\"block_num\").avg( \"amountv\" )\n",
    "print(mdf.count())"
   ]
  },
  {
   "cell_type": "code",
   "execution_count": 6,
   "metadata": {},
   "outputs": [],
   "source": [
    "# generate edge list\n",
    "from_addr = [row[0] for row in mdf.select('from_addr').collect()]\n",
    "to_addr = [row[0] for row in mdf.select('to_addr').collect()]\n",
    "avgamount = [row[0] for row in mdf.select('avg(amountv)').collect()]\n",
    "testdf = pd.DataFrame({'from_addr':from_addr,'to_addr':to_addr,'avgamount':avgamount})"
   ]
  },
  {
   "cell_type": "code",
   "execution_count": 7,
   "metadata": {},
   "outputs": [],
   "source": [
    "# generate node list\n",
    "nodes_dict = sorted(set(testdf['from_addr'].tolist()).union(set(testdf['to_addr'].tolist())))\n",
    "# map between node id to addr\n",
    "addr2id = {v:str(k) for k,v in enumerate(nodes_dict)}\n",
    "id2addr = {v:k for k,v in addr2id.items()}"
   ]
  },
  {
   "cell_type": "code",
   "execution_count": 8,
   "metadata": {},
   "outputs": [],
   "source": [
    "# change addr to node id\n",
    "testdf['from_id'] = testdf['from_addr'].apply(lambda x:addr2id[x])\n",
    "testdf['to_id'] = testdf['to_addr'].apply(lambda x:addr2id[x])"
   ]
  },
  {
   "cell_type": "code",
   "execution_count": 135,
   "metadata": {},
   "outputs": [
    {
     "name": "stdout",
     "output_type": "stream",
     "text": [
      "59779\n"
     ]
    }
   ],
   "source": [
    "# number of nodes\n",
    "nodenum = len(addr2id)\n",
    "print(nodenum)"
   ]
  },
  {
   "cell_type": "code",
   "execution_count": 12,
   "metadata": {},
   "outputs": [],
   "source": [
    "# generate graph\n",
    "edgelist = testdf[['from_id','to_id','avgamount']].values.tolist()\n",
    "graph = nx.DiGraph()\n",
    "graph.add_weighted_edges_from(edgelist)"
   ]
  },
  {
   "cell_type": "code",
   "execution_count": 13,
   "metadata": {},
   "outputs": [
    {
     "data": {
      "application/vnd.jupyter.widget-view+json": {
       "model_id": "2bfe5dcda00f4e06adf9f1b09f19ecee",
       "version_major": 2,
       "version_minor": 0
      },
      "text/plain": [
       "Computing transition probabilities:   0%|          | 0/59779 [00:00<?, ?it/s]"
      ]
     },
     "metadata": {},
     "output_type": "display_data"
    },
    {
     "name": "stdout",
     "output_type": "stream",
     "text": [
      "437.51295590400696\n"
     ]
    }
   ],
   "source": [
    "# extract node embeddings using node2vec\n",
    "a = time.time()\n",
    "# Precompute probabilities and generate walks\n",
    "node2vec = Node2Vec(graph, dimensions=8, walk_length=30, num_walks=30, workers=2)  \n",
    "# Embed nodes\n",
    "model = node2vec.fit(window=10, min_count=1, batch_words=4)  \n",
    "print(time.time()-a)"
   ]
  },
  {
   "cell_type": "code",
   "execution_count": 14,
   "metadata": {},
   "outputs": [],
   "source": [
    "# node embeddings\n",
    "embed = model.wv.vectors"
   ]
  },
  {
   "cell_type": "code",
   "execution_count": 25,
   "metadata": {},
   "outputs": [],
   "source": [
    "# normalize data\n",
    "from sklearn.preprocessing import StandardScaler\n",
    "scaler = StandardScaler()\n",
    "norm_embed = scaler.fit_transform(embed)"
   ]
  },
  {
   "cell_type": "code",
   "execution_count": 104,
   "metadata": {},
   "outputs": [
    {
     "data": {
      "text/plain": [
       "KMeans(n_clusters=5, random_state=0)"
      ]
     },
     "execution_count": 104,
     "metadata": {},
     "output_type": "execute_result"
    }
   ],
   "source": [
    "# k-means cluster based on node embeddings\n",
    "from sklearn.cluster import KMeans\n",
    "k = 5\n",
    "kmeans = KMeans(n_clusters=k, random_state=0) \n",
    "kmeans.fit(norm_embed)"
   ]
  },
  {
   "cell_type": "code",
   "execution_count": 127,
   "metadata": {},
   "outputs": [
    {
     "data": {
      "text/plain": [
       "[(0, 36435), (1, 4335), (2, 5629), (3, 681), (4, 12699)]"
      ]
     },
     "execution_count": 127,
     "metadata": {},
     "output_type": "execute_result"
    }
   ],
   "source": [
    "from collections import Counter\n",
    "count = sorted(Counter(kmeans.labels_).items())"
   ]
  },
  {
   "cell_type": "code",
   "execution_count": 107,
   "metadata": {},
   "outputs": [],
   "source": [
    "# cluster results\n",
    "y_kmeans = kmeans.predict(norm_embed)"
   ]
  },
  {
   "cell_type": "code",
   "execution_count": 109,
   "metadata": {},
   "outputs": [
    {
     "name": "stderr",
     "output_type": "stream",
     "text": [
      "E:\\anaconda3\\lib\\site-packages\\sklearn\\manifold\\_t_sne.py:691: FutureWarning: 'square_distances' has been introduced in 0.24 to help phase out legacy squaring behavior. The 'legacy' setting will be removed in 1.1 (renaming of 0.26), and the default setting will be changed to True. In 1.3, 'square_distances' will be removed altogether, and distances will be squared by default. Set 'square_distances'=True to silence this warning.\n",
      "  warnings.warn(\n"
     ]
    }
   ],
   "source": [
    "# tsne Reduction for visualization\n",
    "from sklearn.manifold import TSNE\n",
    "tsne = TSNE(n_components=2,random_state=1, n_iter=1000, metric=\"cosine\")\n",
    "embs = tsne.fit_transform(norm_embed)"
   ]
  },
  {
   "cell_type": "code",
   "execution_count": 133,
   "metadata": {},
   "outputs": [],
   "source": [
    "# plot of embeddings\n",
    "import matplotlib.pyplot as plt\n",
    "figure = plt.figure(figsize=(10,10))\n",
    "plt.scatter(embs[:, 0], embs[:, 1], c=y_kmeans, s=1, alpha=0.5, cmap='viridis')\n",
    "#plt.title('Visualization of Address Embeddings using t-SNE Reduction')\n",
    "figure.savefig('emb_tsne.jpg')"
   ]
  },
  {
   "cell_type": "code",
   "execution_count": 134,
   "metadata": {},
   "outputs": [],
   "source": [
    "# plot of cluster\n",
    "names = [\"Cluster \"+str(x[0]) for x in count]\n",
    "values = [x[1] for x in count]\n",
    "\n",
    "fig, ax = plt.subplots(figsize=(10,6))\n",
    "bars = ax.bar(names, values)\n",
    "ax.bar_label(bars)\n",
    "plt.xlabel('Cluster id')\n",
    "plt.ylabel('Number')\n",
    "#plt.title('Cluster Result Based on Node Embeddings')\n",
    "fig.savefig(\"emb_cluster.jpg\")"
   ]
  }
 ],
 "metadata": {
  "kernelspec": {
   "display_name": "Python 3",
   "language": "python",
   "name": "python3"
  },
  "language_info": {
   "codemirror_mode": {
    "name": "ipython",
    "version": 3
   },
   "file_extension": ".py",
   "mimetype": "text/x-python",
   "name": "python",
   "nbconvert_exporter": "python",
   "pygments_lexer": "ipython3",
   "version": "3.8.11"
  },
  "vscode": {
   "interpreter": {
    "hash": "fcd50e9f984060bbe7fcbe8c5d0f443fba1dc51e7b046b950206212092538844"
   }
  }
 },
 "nbformat": 4,
 "nbformat_minor": 2
}
